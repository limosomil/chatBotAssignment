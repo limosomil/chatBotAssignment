{
 "cells": [
  {
   "cell_type": "code",
   "execution_count": 1,
   "metadata": {},
   "outputs": [],
   "source": [
    "hostname = 'localhost'\n",
    "username = 'root'\n",
    "password = ''\n",
    "database = 'chatbot'\n",
    "\n",
    "import pymysql\n",
    "myConnection = pymysql.connect( host=hostname, user=username, passwd=password, db=database )"
   ]
  },
  {
   "cell_type": "code",
   "execution_count": 14,
   "metadata": {},
   "outputs": [],
   "source": [
    "def insertuser( conn ) :\n",
    "    cur = conn.cursor()\n",
    "    \n",
    "    today = datetime.now()\n",
    "#     print(today)\n",
    "    dt_string = today.strftime(\"%Y/%m/%d %H:%M:%S\")\n",
    "    print(dt_string)\n",
    "    cur.execute( \"INSERT into user (session_time) values ('{}')\".format(dt_string))\n",
    "    conn.commit()\n",
    "    print(cur.lastrowid)\n",
    "    return int(cur.lastrowid)\n",
    "\n",
    "def generate_questions(conn,emo):\n",
    "    cur = conn.cursor()\n",
    "    cur.execute( \"SELECT * FROM question_list\" )\n",
    "    li = []\n",
    "    for qid,question in cur.fetchall():\n",
    "        print(qid,question)\n",
    "        li.append([qid,question.format(emo)])\n",
    "    return li\n",
    "\n",
    "def updateUserFeeling( conn,feeling,uid ) :\n",
    "    cur = conn.cursor()\n",
    "    cur.execute( \"UPDATE user SET feeling = '{}' where id = '{}'\".format(feeling,uid))\n",
    "    conn.commit()\n",
    "    print(cur.rowcount)\n",
    "    \n",
    "def updateUserName( conn,name,uid ) :\n",
    "    cur = conn.cursor()\n",
    "    cur.execute( \"UPDATE user SET name = '{}' where id = '{}'\".format(name,uid))\n",
    "    conn.commit()\n",
    "    print(cur.rowcount)\n",
    "    \n",
    "def insertResponse( conn,uid,qid,response ) :\n",
    "    cur = conn.cursor()\n",
    "    cur.execute( \"INSERT into user_responses (user_id,q_id,response) values ('{}','{}','{}')\".format(uid,qid,response))\n",
    "    conn.commit()\n",
    "    print(cur.lastrowid)"
   ]
  },
  {
   "cell_type": "code",
   "execution_count": null,
   "metadata": {},
   "outputs": [
    {
     "name": "stdout",
     "output_type": "stream",
     "text": [
      "[{'intent': 'greeting', 'probability': '0.99997234'}]\n",
      "Hi, I'm Raah! What's your name?\n",
      "2020/11/14 12:56:01\n",
      "52\n",
      "1\n",
      "[{'intent': 'good', 'probability': '0.8811887'}]\n",
      "That's Wonderful!  What makes you happy?\n",
      "good 52\n",
      "1\n",
      "good\n",
      "12 Are you feeling {} because of your work related satisfaction?\n",
      "13 Are you feeling {} because of reasons outside your work?\n",
      "14 Do You feel {} because of monetory reasons?\n",
      "15 Are you feeling {} because of work-life balance?\n",
      "16 Are you feeling {} because of your interactions with coworkers or superiors?\n",
      "[[12, 'Are you feeling good because of your work related satisfaction?'], [13, 'Are you feeling good because of reasons outside your work?'], [14, 'Do You feel good because of monetory reasons?'], [15, 'Are you feeling good because of work-life balance?'], [16, 'Are you feeling good because of your interactions with coworkers or superiors?']]\n",
      "[{'intent': 'openended', 'probability': '0.99981266'}]\n",
      "Oh! Well, if you don't mind, may I ask a few questions?\n",
      "[{'intent': 'openended', 'probability': '0.65348995'}]\n",
      "Oh! Well, if you don't mind, may I ask a few questions?\n",
      "[{'intent': 'yes', 'probability': '0.99999046'}]\n",
      "Great! Let's start\n",
      "87\n",
      "88\n",
      "89\n",
      "90\n",
      "91\n",
      "check good\n"
     ]
    }
   ],
   "source": [
    "\n",
    "import nltk\n",
    "from nltk.stem import WordNetLemmatizer\n",
    "lemmatizer = WordNetLemmatizer()\n",
    "import pickle\n",
    "import numpy as np\n",
    "from datetime import datetime\n",
    "\n",
    "from keras.models import load_model\n",
    "model = load_model('chatbot_model.h5')\n",
    "import json\n",
    "import random\n",
    "intents = json.loads(open('intents.json').read())\n",
    "words = pickle.load(open('words.pkl','rb'))\n",
    "classes = pickle.load(open('classes.pkl','rb'))\n",
    "\n",
    "GREETING = 1\n",
    "ASK_FEELING = 2\n",
    "OPEN_ENDED = 3\n",
    "ASK_QUESTION = 4\n",
    "SURVEY = 5\n",
    "FINISH = 6\n",
    "ASK_NAME = 7\n",
    "state = GREETING\n",
    "\n",
    "EMOTION = \"\"\n",
    "USER_ID = -1\n",
    "\n",
    "questions = []\n",
    "index = 0\n",
    "response_survey = {}\n",
    "\n",
    "\n",
    "\n",
    "\n",
    "def clean_up_sentence(sentence):\n",
    "    sentence_words = nltk.word_tokenize(sentence)\n",
    "    sentence_words = [lemmatizer.lemmatize(word.lower()) for word in sentence_words]\n",
    "    return sentence_words\n",
    "\n",
    "# return bag of words array: 0 or 1 for each word in the bag that exists in the sentence\n",
    "\n",
    "def bow(sentence, words, show_details=True):\n",
    "    # tokenize the pattern\n",
    "    sentence_words = clean_up_sentence(sentence)\n",
    "    # bag of words - matrix of N words, vocabulary matrix\n",
    "    bag = [0]*len(words)\n",
    "    for s in sentence_words:\n",
    "        for i,w in enumerate(words):\n",
    "            if w == s:\n",
    "                # assign 1 if current word is in the vocabulary position\n",
    "                bag[i] = 1\n",
    "                if show_details:\n",
    "                    print (\"found in bag: %s\" % w)\n",
    "    return(np.array(bag))\n",
    "\n",
    "def predict_class(sentence, model):\n",
    "    p = bow(sentence, words,show_details=False)\n",
    "    res = model.predict(np.array([p]))[0]\n",
    "    ERROR_THRESHOLD = 0.25\n",
    "    results = [[i,r] for i,r in enumerate(res) if r>ERROR_THRESHOLD]\n",
    "    results.sort(key=lambda x: x[1], reverse=True)\n",
    "    return_list = []\n",
    "    for r in results:\n",
    "        return_list.append({\"intent\": classes[r[0]], \"probability\": str(r[1])})\n",
    "    return return_list\n",
    "\n",
    "def getResponse(ints, intents_json):\n",
    "    tag = ints[0]['intent']\n",
    "    list_of_intents = intents_json['intents']\n",
    "    for i in list_of_intents:\n",
    "        if(i['tag']== tag):\n",
    "            result = random.choice(i['responses'])\n",
    "            break\n",
    "    return result\n",
    "\n",
    "def chatbot_response(msg):\n",
    "    ints = predict_class(msg, model)\n",
    "    print(ints)\n",
    "    res = getResponse(ints, intents)\n",
    "    print(res)\n",
    "    tag = ints[0]['intent']\n",
    "    global state\n",
    "    global questions\n",
    "    global USER_ID\n",
    "    global EMOTION\n",
    "    if state==GREETING:\n",
    "        uid = insertuser(myConnection)\n",
    "        USER_ID = uid\n",
    "        state=ASK_NAME\n",
    "    elif state == ASK_NAME:\n",
    "        state = ASK_FEELING\n",
    "        \n",
    "    elif state==ASK_FEELING:\n",
    "        state=OPEN_ENDED\n",
    "        EMOTION = EMOTION + ints[0]['intent']\n",
    "        print(EMOTION,USER_ID)\n",
    "        updateUserFeeling(myConnection,EMOTION,USER_ID)\n",
    "        print(EMOTION)\n",
    "        questions = questions + generate_questions(myConnection,EMOTION)\n",
    "        print(questions)\n",
    "    elif state==OPEN_ENDED:\n",
    "        state = ASK_QUESTION\n",
    "    elif state == ASK_QUESTION and tag=='yes':\n",
    "        state=SURVEY\n",
    "    elif state == ASK_QUESTION and tag=='no':\n",
    "        state=FINISH\n",
    "        \n",
    "    \n",
    "    return res,tag\n",
    "\n",
    "\n",
    "#Creating GUI with tkinter\n",
    "import tkinter\n",
    "from tkinter import *\n",
    "\n",
    "def send_response(response):\n",
    "    ChatLog.insert(END, \"Bot: \" + response + '\\n\\n')\n",
    "\n",
    "def send():\n",
    "    msg = EntryBox.get(\"1.0\",'end-1c').strip()\n",
    "    EntryBox.delete(\"0.0\",END)\n",
    "    global state\n",
    "    global index\n",
    "    global response_survey\n",
    "    global USER_ID\n",
    "    if msg != '' and state!=SURVEY and state!=ASK_NAME:\n",
    "        ChatLog.config(state=NORMAL)\n",
    "        ChatLog.insert(END, \"You: \" + msg + '\\n\\n')\n",
    "        ChatLog.config(foreground=\"#442265\", font=(\"Arial\", 12 ))\n",
    "\n",
    "        res,tag = chatbot_response(msg)\n",
    "        ChatLog.insert(END, \"Raah: \" + res + '\\n\\n')\n",
    "        if state==SURVEY and tag=='yes':\n",
    "            send_response('For the next 5 questions, enter the number corresponding to each response')\n",
    "            ChatLog.insert(END, \"Q{}: \".format(index+1) + questions[index][1] + '\\n\\n')\n",
    "            index+=1\n",
    "            ChatLog.insert(END, \"1: Stongly Agree\\n\")\n",
    "            ChatLog.insert(END, \"2: Agree\\n\")\n",
    "            ChatLog.insert(END, \"3: Neither Agree nor Disagree\\n\")\n",
    "            ChatLog.insert(END, \"4: Disagree\\n\")\n",
    "            ChatLog.insert(END, \"5: Stongly Disagree\\n\")\n",
    "        ChatLog.config(state=DISABLED)\n",
    "        ChatLog.yview(END)\n",
    "    elif msg != '' and state==SURVEY:\n",
    "        ChatLog.config(state=NORMAL)\n",
    "        valid  = ['1','2','3','4','5']\n",
    "        if msg in valid :\n",
    "            ChatLog.insert(END, \"You: \" + msg + '\\n\\n')\n",
    "            response_survey[questions[index-1][1]] = msg\n",
    "            insertResponse( myConnection,USER_ID,questions[index-1][0],msg)\n",
    "            if index<5:\n",
    "                ChatLog.insert(END, \"Q{}: \".format(index+1) + questions[index][1] + '\\n\\n')\n",
    "                index+=1\n",
    "                ChatLog.insert(END, \"1: Stongly Agree\\n\")\n",
    "                ChatLog.insert(END, \"2: Agree\\n\")\n",
    "                ChatLog.insert(END, \"3: Neither Agree nor Disagree\\n\")\n",
    "                ChatLog.insert(END, \"4: Disagree\\n\")\n",
    "                ChatLog.insert(END, \"5: Stongly Disagree\\n\\n\")\n",
    "            else: \n",
    "                ChatLog.insert(END, \"Raah: Thank You For Answering, Have a good day :)\\n\\n\")\n",
    "                print('check',EMOTION)\n",
    "                if EMOTION != 'good':\n",
    "                    ChatLog.insert(END, \"Raah: Just Remember, It’s Completely Normal To Feel This Way! \")\n",
    "                state = FINISH\n",
    "                \n",
    "        else:\n",
    "            ChatLog.insert(END, \"Raah: Invalid Response, Try Again\\n\\n\")\n",
    "        \n",
    "        ChatLog.config(foreground=\"#442265\", font=(\"Arial\", 12 ))\n",
    "        ChatLog.config(state=DISABLED)\n",
    "        ChatLog.yview(END)\n",
    "    elif msg != '' and state == ASK_NAME:\n",
    "        state = ASK_FEELING\n",
    "        ChatLog.config(state=NORMAL)\n",
    "        ChatLog.insert(END, \"You: \" + msg + '\\n\\n')\n",
    "        updateUserName(myConnection,msg,USER_ID)\n",
    "        ChatLog.config(foreground=\"#442265\", font=(\"Arial\", 12 ))\n",
    "        # ASK NAME\n",
    "        ChatLog.insert(END, 'Raah: Hi {}, How are you feeling today? \\nGood, Bad or Neutral?\\n\\n'.format(msg))\n",
    "        ChatLog.config(state=DISABLED)\n",
    "        ChatLog.yview(END)\n",
    "\n",
    "\n",
    "\n",
    "        \n",
    "        \n",
    "\n",
    "\n",
    "base = Tk()\n",
    "base.title(\"TheOther 2 Thirds\")\n",
    "base.geometry(\"400x500\")\n",
    "base.resizable(width=TRUE, height=FALSE)\n",
    "\n",
    "#Create Chat window\n",
    "ChatLog = Text(base, bd=0, bg=\"white\", height=\"8\", width=\"50\", font=\"Arial\",)\n",
    "\n",
    "ChatLog.config(state=DISABLED)\n",
    "\n",
    "#Bind scrollbar to Chat window\n",
    "scrollbar = Scrollbar(base, command=ChatLog.yview, cursor=\"heart\")\n",
    "ChatLog['yscrollcommand'] = scrollbar.set\n",
    "\n",
    "#Create Button to send message\n",
    "SendButton = Button(base, font=(\"Verdana\",12,'bold'), text=\"Send\", width=\"12\", height=5,\n",
    "                    bd=0, bg=\"#32de97\", activebackground=\"#3c9d9b\",fg='#ffffff',\n",
    "                    command= send )\n",
    "\n",
    "#Create the box to enter message\n",
    "EntryBox = Text(base, bd=0, bg=\"white\",width=\"29\", height=\"5\", font=\"Arial\")\n",
    "#EntryBox.bind(\"<Return>\", send)\n",
    "\n",
    "\n",
    "#Place all components on the screen\n",
    "scrollbar.place(x=376,y=6, height=386)\n",
    "ChatLog.place(x=6,y=6, height=386, width=370)\n",
    "EntryBox.place(x=128, y=401, height=90, width=265)\n",
    "SendButton.place(x=6, y=401, height=90)\n",
    "\n",
    "base.mainloop()\n"
   ]
  },
  {
   "cell_type": "code",
   "execution_count": 29,
   "metadata": {},
   "outputs": [
    {
     "name": "stdout",
     "output_type": "stream",
     "text": [
      "{'You are feeling bad because of your work environment': '1', 'You are feeling bad because of reason outside your work': '2', 'You feel bad because of monetory reasons': '4', 'You are feeling bad because of work-life balance': '2'}\n"
     ]
    }
   ],
   "source": [
    "print(response_survey)"
   ]
  },
  {
   "cell_type": "code",
   "execution_count": null,
   "metadata": {},
   "outputs": [],
   "source": [
    "\n"
   ]
  },
  {
   "cell_type": "code",
   "execution_count": null,
   "metadata": {},
   "outputs": [],
   "source": [
    "\n"
   ]
  },
  {
   "cell_type": "code",
   "execution_count": null,
   "metadata": {},
   "outputs": [],
   "source": []
  },
  {
   "cell_type": "code",
   "execution_count": 14,
   "metadata": {},
   "outputs": [],
   "source": []
  },
  {
   "cell_type": "code",
   "execution_count": 17,
   "metadata": {},
   "outputs": [
    {
     "name": "stdout",
     "output_type": "stream",
     "text": [
      "2020/11/14 12:55:32\n",
      "51\n",
      "51\n"
     ]
    }
   ],
   "source": [
    "print(insertuser(myConnection))"
   ]
  },
  {
   "cell_type": "code",
   "execution_count": 11,
   "metadata": {},
   "outputs": [],
   "source": []
  },
  {
   "cell_type": "code",
   "execution_count": 29,
   "metadata": {},
   "outputs": [
    {
     "name": "stdout",
     "output_type": "stream",
     "text": [
      "1\n"
     ]
    }
   ],
   "source": [
    "updateUserFeeling(myConnection,'bad',9)"
   ]
  },
  {
   "cell_type": "code",
   "execution_count": 6,
   "metadata": {},
   "outputs": [],
   "source": [
    "def insertQuestions( conn ) :\n",
    "    cur = conn.cursor()\n",
    "    global li\n",
    "    for q in li:\n",
    "        cur.execute( \"INSERT into question_list (question) values ('{}')\".format(q))\n",
    "        conn.commit()\n",
    "        print(cur.lastrowid)"
   ]
  },
  {
   "cell_type": "code",
   "execution_count": 7,
   "metadata": {},
   "outputs": [
    {
     "name": "stdout",
     "output_type": "stream",
     "text": [
      "12\n",
      "13\n",
      "14\n",
      "15\n",
      "16\n"
     ]
    }
   ],
   "source": [
    "insertQuestions(myConnection)"
   ]
  },
  {
   "cell_type": "code",
   "execution_count": 3,
   "metadata": {},
   "outputs": [],
   "source": [
    "def generate_questions_to_insert():\n",
    "    li = []\n",
    "    li.append('Are you feeling {} because of your work related satisfaction?')\n",
    "    li.append('Are you feeling {} because of reasons outside your work?')\n",
    "    li.append('Do You feel {} because of monetory reasons?')\n",
    "    li.append('Are you feeling {} because of work-life balance?')\n",
    "    li.append('Are you feeling {} because of your interactions with coworkers or superiors?')\n",
    "    return li"
   ]
  },
  {
   "cell_type": "code",
   "execution_count": 4,
   "metadata": {},
   "outputs": [],
   "source": [
    "li = generate_questions_to_insert()"
   ]
  },
  {
   "cell_type": "code",
   "execution_count": 9,
   "metadata": {},
   "outputs": [],
   "source": []
  },
  {
   "cell_type": "code",
   "execution_count": 54,
   "metadata": {},
   "outputs": [
    {
     "name": "stdout",
     "output_type": "stream",
     "text": [
      "7 You are feeling {} because of your work environment\n",
      "8 You are feeling {} because of reason outside your work\n",
      "9 You feel {} because of monetory reasons\n",
      "10 You are feeling {} because of work-life balance\n",
      "11 You are feeling {} because of your interactions with coworkers\n"
     ]
    },
    {
     "data": {
      "text/plain": [
       "[[7, 'You are feeling bad because of your work environment'],\n",
       " [8, 'You are feeling bad because of reason outside your work'],\n",
       " [9, 'You feel bad because of monetory reasons'],\n",
       " [10, 'You are feeling bad because of work-life balance'],\n",
       " [11, 'You are feeling bad because of your interactions with coworkers']]"
      ]
     },
     "execution_count": 54,
     "metadata": {},
     "output_type": "execute_result"
    }
   ],
   "source": [
    "generate_questions('bad',myConnection)"
   ]
  },
  {
   "cell_type": "code",
   "execution_count": 14,
   "metadata": {},
   "outputs": [
    {
     "name": "stdout",
     "output_type": "stream",
     "text": [
      "😊\n"
     ]
    }
   ],
   "source": [
    "print('😊')"
   ]
  },
  {
   "cell_type": "code",
   "execution_count": null,
   "metadata": {},
   "outputs": [],
   "source": []
  }
 ],
 "metadata": {
  "kernelspec": {
   "display_name": "Python 3",
   "language": "python",
   "name": "python3"
  },
  "language_info": {
   "codemirror_mode": {
    "name": "ipython",
    "version": 3
   },
   "file_extension": ".py",
   "mimetype": "text/x-python",
   "name": "python",
   "nbconvert_exporter": "python",
   "pygments_lexer": "ipython3",
   "version": "3.7.3"
  }
 },
 "nbformat": 4,
 "nbformat_minor": 2
}
